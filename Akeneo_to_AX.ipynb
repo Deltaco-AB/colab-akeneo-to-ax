{
  "nbformat": 4,
  "nbformat_minor": 0,
  "metadata": {
    "colab": {
      "name": "(GitHub) Akeneo to AX",
      "provenance": [],
      "collapsed_sections": [
        "EGd2DbRft-Tk"
      ],
      "toc_visible": true,
      "include_colab_link": true
    },
    "kernelspec": {
      "name": "python3",
      "display_name": "Python 3"
    },
    "language_info": {
      "name": "python"
    }
  },
  "cells": [
    {
      "cell_type": "markdown",
      "metadata": {
        "id": "view-in-github",
        "colab_type": "text"
      },
      "source": [
        "<a href=\"https://colab.research.google.com/github/Deltaco-AB/colab-akeneo-to-ax/blob/master/Akeneo_to_AX.ipynb\" target=\"_parent\"><img src=\"https://colab.research.google.com/assets/colab-badge.svg\" alt=\"Open In Colab\"/></a>"
      ]
    },
    {
      "cell_type": "markdown",
      "metadata": {
        "id": "rtUq020ztqXt"
      },
      "source": [
        "# **Akeneo to AX**"
      ]
    },
    {
      "cell_type": "markdown",
      "metadata": {
        "id": "tSJe9e6Mu2l_"
      },
      "source": [
        "## Settings"
      ]
    },
    {
      "cell_type": "code",
      "metadata": {
        "id": "jy-ITvWlQlZ8"
      },
      "source": [
        "#@markdown ## Settings\n",
        "\n",
        "download_on_complete = True #@param {type: \"boolean\"}\n",
        "\n",
        "#@markdown ---\n",
        "#@markdown ## Filters\n",
        "\n",
        "filter_enabled = False #@param {type: \"boolean\"}\n",
        "sku = ''  #@param {type: \"string\"}\n",
        "brand_ref = ''  #@param {type: \"string\"}\n",
        "\n",
        "#@markdown ---\n",
        "\n",
        "filters = {\n",
        "    \"sku\": sku,\n",
        "    \"brand_ref\": brand_ref\n",
        "}"
      ],
      "execution_count": null,
      "outputs": []
    },
    {
      "cell_type": "markdown",
      "metadata": {
        "id": "EGd2DbRft-Tk"
      },
      "source": [
        "### Columns"
      ]
    },
    {
      "cell_type": "code",
      "metadata": {
        "id": "v00_8OQxt8v3"
      },
      "source": [
        "output_columns = {}"
      ],
      "execution_count": null,
      "outputs": []
    },
    {
      "cell_type": "markdown",
      "metadata": {
        "id": "-lfK7fFGtwE7"
      },
      "source": [
        "## **Code**"
      ]
    },
    {
      "cell_type": "code",
      "metadata": {
        "id": "29vSjfbmuypg"
      },
      "source": [
        "# Save converted Excel to this folder\n",
        "output_dir = \"converted/\""
      ],
      "execution_count": null,
      "outputs": []
    },
    {
      "cell_type": "code",
      "metadata": {
        "id": "xLR0VxDkSFAN",
        "colab": {
          "base_uri": "https://localhost:8080/"
        },
        "outputId": "11e02b21-d1c2-4171-f364-f811d754c6a1"
      },
      "source": [
        "!pip install xlsxwriter\n",
        "import pandas as pd\n",
        "from google.colab import files\n",
        "from pathlib import Path"
      ],
      "execution_count": null,
      "outputs": [
        {
          "output_type": "stream",
          "text": [
            "Requirement already satisfied: xlsxwriter in /usr/local/lib/python3.7/dist-packages (1.4.2)\n"
          ],
          "name": "stdout"
        }
      ]
    },
    {
      "cell_type": "code",
      "metadata": {
        "id": "0IK3uVtOxd0t"
      },
      "source": [
        "# Split each filter into a whitelist\n",
        "if(filter_enabled):\n",
        "    for key,value in filters.items():\n",
        "        if(value == \"\"):\n",
        "            filters[key] = False\n",
        "            continue\n",
        "        values = value.split(\",\")\n",
        "        filters[key] = value.split(\",\")"
      ],
      "execution_count": null,
      "outputs": []
    },
    {
      "cell_type": "code",
      "metadata": {
        "id": "cQljt-f_xKa7"
      },
      "source": [
        "# Create (stringified) AX compatible HTML elements\n",
        "class AXHTML():\n",
        "    @staticmethod\n",
        "    def p(text):\n",
        "        text = str(text)\n",
        "        if(text == \"nan\" or len(text) < 1):\n",
        "            return \"\"\n",
        "        text = text.replace(\"\\n\\n\",\"<br>\")\n",
        "        return f\"<p>{text}</p>\"\n",
        "\n",
        "    @staticmethod\n",
        "    def ul(items):\n",
        "        ul = \"\"\n",
        "        for li in items:\n",
        "            li = str(li)\n",
        "            if(li == \"nan\"):\n",
        "                continue\n",
        "            ul += f\"• {li}<br>\"\n",
        "        return AXHTML.p(ul)"
      ],
      "execution_count": null,
      "outputs": []
    },
    {
      "cell_type": "code",
      "metadata": {
        "id": "3qCLUldQTH4d"
      },
      "source": [
        "# Create an Excel document\n",
        "class Excel():\n",
        "    def __init__(self):\n",
        "        self.sheet = [[]]\n",
        "        self.header = self.sheet[0]\n",
        "\n",
        "    # Create a new column\n",
        "    def append_column(self,name):\n",
        "        self.header.append(name)\n",
        "\n",
        "    # Append a complete set of cells as a row\n",
        "    def insert_row(self,cells):\n",
        "        if(len(cells) != len(self.header)):\n",
        "            # Row item length must match header's item length\n",
        "            raise ValueError(\"Can not insert row with different cell count\")\n",
        "        self.sheet.append(cells)\n",
        "\n",
        "    # Map multidimensional list to Excel columns and rows\n",
        "    def put(self,dest):\n",
        "        df = pd.DataFrame(self.sheet)\n",
        "        writer = pd.ExcelWriter(dest,engine=\"xlsxwriter\")\n",
        "\n",
        "        df.to_excel(writer,sheet_name=\"AkeneoToAX\",index=False)\n",
        "        writer.save()\n",
        "\n",
        "# Convert Akeneo exported Excel to AX importable Excel\n",
        "class AkeneoToAX(Excel):\n",
        "    def __init__(self,xlsx):\n",
        "        self.dataframe = pd.read_excel(xlsx)\n",
        "        self.column_filter = None\n",
        "        super(AkeneoToAX,self).__init__()\n",
        "\n",
        "    # Combine all filtered fields into an AX-compatible string of HTML tags\n",
        "    def format_cell(self,lang,row):\n",
        "        cell = \"\"\n",
        "        for column in self.column_filter[lang]:\n",
        "            if(isinstance(column,list)):\n",
        "                # Bullet point list (ul)\n",
        "                items = []\n",
        "                for li in column:\n",
        "                    items.append(self.dataframe[li][row])\n",
        "                cell += AXHTML.ul(items)\n",
        "                continue\n",
        "            \n",
        "            # Concatinate multipart columns\n",
        "            multipart = column.split(\"#\")\n",
        "            if(len(multipart) > 1):\n",
        "                concat = []\n",
        "                for segment in multipart:\n",
        "                    data = self.dataframe[segment][row]\n",
        "                    concat.append(str(data))\n",
        "                cell += AXHTML.p(\" \".join(concat))\n",
        "                continue\n",
        "            \n",
        "            # Text field (paragraph)\n",
        "            cell += AXHTML.p(self.dataframe[column][row])\n",
        "        return cell\n",
        "\n",
        "    # Create an array of cells\n",
        "    def build_row(self,row):\n",
        "        cells = []\n",
        "        # Assign each cell to a column in header\n",
        "        for column in self.header:\n",
        "            data = \"\"\n",
        "            if(column not in self.column_filter.keys()):\n",
        "                # Treat column as array formula if not in column filter list\n",
        "                cells.append(self.dataframe[column][row])\n",
        "                continue\n",
        "            # Run field formatting for the current cell\n",
        "            cells.append(self.format_cell(column,row))\n",
        "        return cells\n",
        "\n",
        "    def exclude(self,row):\n",
        "        for column,whitelist in filters.items():\n",
        "            if(not whitelist or str(self.dataframe[column][row]) in whitelist):\n",
        "                continue\n",
        "            return True\n",
        "        return False\n",
        "\n",
        "    # Iterate over all rows in input sheet\n",
        "    def walk(self):\n",
        "        for i in range(0,len(self.dataframe)):\n",
        "            if(filter_enabled and self.exclude(i)):\n",
        "                continue\n",
        "            self.insert_row(self.build_row(i))      \n",
        "\n",
        "    # Convert columns from filter\n",
        "    def columns(self,columns):\n",
        "        self.column_filter = columns\n",
        "        # Add each translation as column\n",
        "        for lang in columns.keys():\n",
        "            self.append_column(lang)\n",
        "\n",
        "        self.walk()"
      ],
      "execution_count": null,
      "outputs": []
    },
    {
      "cell_type": "code",
      "metadata": {
        "id": "nmKisgVDzMiH"
      },
      "source": [
        "# Create output directory if it doesn't exists\n",
        "output = Path(output_dir)\n",
        "output.mkdir(parents=False,exist_ok=True)"
      ],
      "execution_count": null,
      "outputs": []
    },
    {
      "cell_type": "code",
      "metadata": {
        "colab": {
          "base_uri": "https://localhost:8080/",
          "height": 17
        },
        "id": "-3AV_g9PSHuz",
        "outputId": "88c8caac-c8a2-4aff-a266-6bd816afb601"
      },
      "source": [
        "# Get all xlsx files from the current directory\n",
        "xlsx_files = list(Path(\".\").glob(\"*.xlsx\"))\n",
        "\n",
        "# Convert all found xlsx files\n",
        "for xlsx in xlsx_files:\n",
        "    output_dest = f\"converted/{xlsx}\"\n",
        "    convert = AkeneoToAX(xlsx)\n",
        "\n",
        "    convert.append_column(\"sku\") # Use SKU as key identifier\n",
        "    convert.columns(output_columns)\n",
        "\n",
        "    convert.put(output_dest)\n",
        "\n",
        "    if(download_on_complete):\n",
        "        files.download(output_dest)"
      ],
      "execution_count": null,
      "outputs": [
        {
          "output_type": "display_data",
          "data": {
            "application/javascript": [
              "\n",
              "    async function download(id, filename, size) {\n",
              "      if (!google.colab.kernel.accessAllowed) {\n",
              "        return;\n",
              "      }\n",
              "      const div = document.createElement('div');\n",
              "      const label = document.createElement('label');\n",
              "      label.textContent = `Downloading \"${filename}\": `;\n",
              "      div.appendChild(label);\n",
              "      const progress = document.createElement('progress');\n",
              "      progress.max = size;\n",
              "      div.appendChild(progress);\n",
              "      document.body.appendChild(div);\n",
              "\n",
              "      const buffers = [];\n",
              "      let downloaded = 0;\n",
              "\n",
              "      const channel = await google.colab.kernel.comms.open(id);\n",
              "      // Send a message to notify the kernel that we're ready.\n",
              "      channel.send({})\n",
              "\n",
              "      for await (const message of channel.messages) {\n",
              "        // Send a message to notify the kernel that we're ready.\n",
              "        channel.send({})\n",
              "        if (message.buffers) {\n",
              "          for (const buffer of message.buffers) {\n",
              "            buffers.push(buffer);\n",
              "            downloaded += buffer.byteLength;\n",
              "            progress.value = downloaded;\n",
              "          }\n",
              "        }\n",
              "      }\n",
              "      const blob = new Blob(buffers, {type: 'application/binary'});\n",
              "      const a = document.createElement('a');\n",
              "      a.href = window.URL.createObjectURL(blob);\n",
              "      a.download = filename;\n",
              "      div.appendChild(a);\n",
              "      a.click();\n",
              "      div.remove();\n",
              "    }\n",
              "  "
            ],
            "text/plain": [
              "<IPython.core.display.Javascript object>"
            ]
          },
          "metadata": {
            "tags": []
          }
        },
        {
          "output_type": "display_data",
          "data": {
            "application/javascript": [
              "download(\"download_213987e1-b4b2-4e55-8b5f-a4a17ed745a0\", \"export_Deltaco_Text_Export_2021-05-05_14-20-00.xlsx\", 11572)"
            ],
            "text/plain": [
              "<IPython.core.display.Javascript object>"
            ]
          },
          "metadata": {
            "tags": []
          }
        }
      ]
    }
  ]
}